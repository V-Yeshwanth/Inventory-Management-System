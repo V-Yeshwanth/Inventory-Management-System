{
 "cells": [
  {
   "cell_type": "markdown",
   "id": "335cdd0a",
   "metadata": {},
   "source": [
    "# Inventory Management System  "
   ]
  },
  {
   "cell_type": "markdown",
   "id": "066bca36",
   "metadata": {},
   "source": [
    "##  By V Yeshwanth"
   ]
  },
  {
   "cell_type": "markdown",
   "id": "fb736816",
   "metadata": {},
   "source": [
    "### Read the Record_data.json file"
   ]
  },
  {
   "cell_type": "code",
   "execution_count": 161,
   "id": "c6828861",
   "metadata": {},
   "outputs": [],
   "source": [
    "import json"
   ]
  },
  {
   "cell_type": "code",
   "execution_count": 162,
   "id": "2dca96a1",
   "metadata": {},
   "outputs": [],
   "source": [
    "fd = open(\"Record_data.json\", \"r\")\n",
    "txt_record = fd.read()\n",
    "fd.close()"
   ]
  },
  {
   "cell_type": "code",
   "execution_count": 163,
   "id": "83a56eba",
   "metadata": {
    "scrolled": true
   },
   "outputs": [
    {
     "data": {
      "text/plain": [
       "'{\"123400001\": {\"Product-Name\": \"Xiaomi\", \"Prod-Cost\": 20000, \"Quantity-available\": 5, \"Category\": \"Mobile\", \"Discount\": 2000, \"GST\": \"20%\", \"Prod_cost\": 25000}, \"123400002\": {\"Product-Name\": \"Laptop\", \"Prod-Cost\": 40000, \"Quantity-available\": 0, \"Category\": \"Electronics\", \"Discount\": 5000, \"GST\": \"15%\"}, \"123400003\": {\"Product-Name\": \"Sugar\", \"Prod-Cost\": 50, \"Quantity-available\": 20, \"Category\": \"Grocery\", \"Discount\": 5, \"GST\": \"1%\"}, \"123400004\": {\"Product-Name\": \"Geans Pants\", \"Prod-Cost\": 2000, \"Quantity-available\": 10, \"Category\": \"Fashion\", \"Discount\": 200, \"GST\": \"4%\"}, \"123400005\": {\"Product-Name\": \"Earphone\", \"Prod-Cost\": 2000, \"Quantity-available\": 20, \"Category\": \"Electronics\", \"Discount\": 200, \"GST\": \"5%\"}, \"123400006\": {\"Product-Name\": \"Tablets\", \"Prod-Cost\": 50000, \"Quantity-available\": 7, \"Category\": \"Electronics\", \"Discount\": 2000, \"GST\": \"25%\"}, \"123400007\": {\"Product-Name\": \"Spices\", \"Prod-Cost\": 100, \"Quantity-available\": 30, \"Category\": \"Grocery\", \"Discount\": 15, \"GST\": \"2%\"}, \"123400008\": {\"Product-Name\": \"Kids Wear\", \"Prod-Cost\": 5000, \"Quantity-available\": 24, \"Category\": \"Fashion\", \"Discount\": 250, \"GST\": \"4%\"}, \"123400009\": {\"Product-Name\": \"SmartWatches\", \"Prod-Cost\": 10000, \"Quantity-available\": 5, \"Category\": \"Electronics\", \"Discount\": 1000, \"GST\": \"10%\"}, \"1234000010\": {\"Product-Name\": \"Soaps\", \"Prod-Cost\": 40, \"Quantity-available\": 40, \"Category\": \"Grocery\", \"Discount\": 5, \"GST\": \"1%\"}, \"1234000011\": {\"Product-Name\": \"IPhone\", \"Prod-Cost\": 70000, \"Quantity-available\": 2, \"Category\": \"Mobiles\", \"Discount\": 5000, \"GST\": \"20%\"}, \"1234000012\": {\"Product-Name\": \"Shoes\", \"Prod-Cost\": 1500, \"Quantity-available\": 14, \"Category\": \"Fashion\", \"Discount\": 200, \"GST\": \"4%\"}, \"1234000013\": {\"Product-Name\": \"Vivo\", \"Prod-Cost\": 20000, \"Quantity-available\": 10, \"Category\": \"Mobile\", \"Discount\": 2000, \"GST\": \"10%\"}, \"1234000014\": {\"Product-Name\": \"Speakers\", \"Prod-Cost\": 40000, \"Quantity-available\": 3, \"Category\": \"Electronics\", \"Discount\": 5000, \"GST\": \"15%\"}, \"1234000015\": {\"Product-Name\": \"Gee\", \"Prod-Cost\": 50, \"Quantity-available\": 20, \"Category\": \"Grocery\", \"Discount\": 5, \"GST\": \"1%\"}, \"1234000016\": {\"Product-Name\": \"Jacket\", \"Prod-Cost\": 2000, \"Quantity-available\": 14, \"Category\": \"Fashion\", \"Discount\": 200, \"GST\": \"4%\"}, \"1234000017\": {\"Product-Name\": \"Routers\", \"Prod-Cost\": 2000, \"Quantity-available\": 20, \"Category\": \"Electronics\", \"Discount\": 200, \"GST\": \"5%\"}, \"1234000018\": {\"Product-Name\": \"Printers\", \"Prod-Cost\": 50000, \"Quantity-available\": 5, \"Category\": \"Electronics\", \"Discount\": 2000, \"GST\": \"25%\"}, \"1234000019\": {\"Product-Name\": \"Vegetables\", \"Prod-Cost\": 100, \"Quantity-available\": 0, \"Category\": \"Grocery\", \"Discount\": 15, \"GST\": \"2%\"}, \"1234000020\": {\"Product-Name\": \"Jewellery\", \"Prod-Cost\": 5000, \"Quantity-available\": 24, \"Category\": \"Fashion\", \"Discount\": 250, \"GST\": \"4%\"}, \"1234000021\": {\"Product-Name\": \"HomeTheaters\", \"Prod-Cost\": 10000, \"Quantity-available\": 5, \"Category\": \"Electronics\", \"Discount\": 1000, \"GST\": \"10%\"}, \"1234000022\": {\"Product-Name\": \"Oil\", \"Prod-Cost\": 40, \"Quantity-available\": 40, \"Category\": \"Grocery\", \"Discount\": 5, \"GST\": \"1%\"}, \"1234000023\": {\"Product-Name\": \"Oppo\", \"Prod-Cost\": 70000, \"Quantity-available\": 1, \"Category\": \"Mobiles\", \"Discount\": 5000, \"GST\": \"20%\"}, \"1234000024\": {\"Product-Name\": \"Watches\", \"Prod-Cost\": 1500, \"Quantity-available\": 14, \"Category\": \"Fashion\", \"Discount\": 200, \"GST\": \"4%\"}, \"1234000025\": {\"Product-Name\": \"Egg\", \"Prod-Cost\": 100, \"Quantity-available\": 30, \"Category\": \"Grocery\", \"Discount\": 15, \"GST\": \"2%\"}, \"1234000026\": {\"Product-Name\": \"Saree\", \"Prod-Cost\": 5000, \"Quantity-available\": 19, \"Category\": \"Fashion\", \"Discount\": 250, \"GST\": \"4%\"}, \"1234000027\": {\"Product-Name\": \"Powerbanks\", \"Prod-Cost\": 10000, \"Quantity-available\": 5, \"Category\": \"Electronics\", \"Discount\": 1000, \"GST\": \"10%\"}, \"1234000028\": {\"Product-Name\": \"chocolate\", \"Prod-Cost\": 40, \"Quantity-available\": 40, \"Category\": \"Grocery\", \"Discount\": 5, \"GST\": \"1%\"}, \"1234000029\": {\"Product-Name\": \"samsung\", \"Prod-Cost\": 70000, \"Quantity-available\": 2, \"Category\": \"Mobiles\", \"Discount\": 5000, \"GST\": \"20%\"}, \"1234000030\": {\"Product-Name\": \"t-shirts\", \"Prod-Cost\": 1500, \"Quantity-available\": 9, \"Category\": \"Fashion\", \"Discount\": 200, \"GST\": \"4%\"}, \"1234000031\": {\"Product-Name\": \"shampoo\", \"Prod-Cost\": 40, \"Quantity-available\": 20, \"Category\": \"Grocery\", \"Discount\": 3, \"GST\": \"1%\"}, \"1234000032\": {\"Product-Name\": \"Micromax\", \"Prod-Cost\": 30000, \"Quantity-available\": 5, \"Category\": \"Mobile\", \"Discount\": 3000, \"GST\": \"10%\"}}'"
      ]
     },
     "execution_count": 163,
     "metadata": {},
     "output_type": "execute_result"
    }
   ],
   "source": [
    "txt_record"
   ]
  },
  {
   "cell_type": "code",
   "execution_count": 164,
   "id": "64732c21",
   "metadata": {},
   "outputs": [],
   "source": [
    "# Converting Json again to Dict\n",
    "\n",
    "record_dict = json.loads(txt_record)"
   ]
  },
  {
   "cell_type": "code",
   "execution_count": 165,
   "id": "266895b3",
   "metadata": {
    "scrolled": true
   },
   "outputs": [
    {
     "data": {
      "text/plain": [
       "{'123400001': {'Product-Name': 'Xiaomi',\n",
       "  'Prod-Cost': 20000,\n",
       "  'Quantity-available': 5,\n",
       "  'Category': 'Mobile',\n",
       "  'Discount': 2000,\n",
       "  'GST': '20%',\n",
       "  'Prod_cost': 25000},\n",
       " '123400002': {'Product-Name': 'Laptop',\n",
       "  'Prod-Cost': 40000,\n",
       "  'Quantity-available': 0,\n",
       "  'Category': 'Electronics',\n",
       "  'Discount': 5000,\n",
       "  'GST': '15%'},\n",
       " '123400003': {'Product-Name': 'Sugar',\n",
       "  'Prod-Cost': 50,\n",
       "  'Quantity-available': 20,\n",
       "  'Category': 'Grocery',\n",
       "  'Discount': 5,\n",
       "  'GST': '1%'},\n",
       " '123400004': {'Product-Name': 'Geans Pants',\n",
       "  'Prod-Cost': 2000,\n",
       "  'Quantity-available': 10,\n",
       "  'Category': 'Fashion',\n",
       "  'Discount': 200,\n",
       "  'GST': '4%'},\n",
       " '123400005': {'Product-Name': 'Earphone',\n",
       "  'Prod-Cost': 2000,\n",
       "  'Quantity-available': 20,\n",
       "  'Category': 'Electronics',\n",
       "  'Discount': 200,\n",
       "  'GST': '5%'},\n",
       " '123400006': {'Product-Name': 'Tablets',\n",
       "  'Prod-Cost': 50000,\n",
       "  'Quantity-available': 7,\n",
       "  'Category': 'Electronics',\n",
       "  'Discount': 2000,\n",
       "  'GST': '25%'},\n",
       " '123400007': {'Product-Name': 'Spices',\n",
       "  'Prod-Cost': 100,\n",
       "  'Quantity-available': 30,\n",
       "  'Category': 'Grocery',\n",
       "  'Discount': 15,\n",
       "  'GST': '2%'},\n",
       " '123400008': {'Product-Name': 'Kids Wear',\n",
       "  'Prod-Cost': 5000,\n",
       "  'Quantity-available': 24,\n",
       "  'Category': 'Fashion',\n",
       "  'Discount': 250,\n",
       "  'GST': '4%'},\n",
       " '123400009': {'Product-Name': 'SmartWatches',\n",
       "  'Prod-Cost': 10000,\n",
       "  'Quantity-available': 5,\n",
       "  'Category': 'Electronics',\n",
       "  'Discount': 1000,\n",
       "  'GST': '10%'},\n",
       " '1234000010': {'Product-Name': 'Soaps',\n",
       "  'Prod-Cost': 40,\n",
       "  'Quantity-available': 40,\n",
       "  'Category': 'Grocery',\n",
       "  'Discount': 5,\n",
       "  'GST': '1%'},\n",
       " '1234000011': {'Product-Name': 'IPhone',\n",
       "  'Prod-Cost': 70000,\n",
       "  'Quantity-available': 2,\n",
       "  'Category': 'Mobiles',\n",
       "  'Discount': 5000,\n",
       "  'GST': '20%'},\n",
       " '1234000012': {'Product-Name': 'Shoes',\n",
       "  'Prod-Cost': 1500,\n",
       "  'Quantity-available': 14,\n",
       "  'Category': 'Fashion',\n",
       "  'Discount': 200,\n",
       "  'GST': '4%'},\n",
       " '1234000013': {'Product-Name': 'Vivo',\n",
       "  'Prod-Cost': 20000,\n",
       "  'Quantity-available': 10,\n",
       "  'Category': 'Mobile',\n",
       "  'Discount': 2000,\n",
       "  'GST': '10%'},\n",
       " '1234000014': {'Product-Name': 'Speakers',\n",
       "  'Prod-Cost': 40000,\n",
       "  'Quantity-available': 3,\n",
       "  'Category': 'Electronics',\n",
       "  'Discount': 5000,\n",
       "  'GST': '15%'},\n",
       " '1234000015': {'Product-Name': 'Gee',\n",
       "  'Prod-Cost': 50,\n",
       "  'Quantity-available': 20,\n",
       "  'Category': 'Grocery',\n",
       "  'Discount': 5,\n",
       "  'GST': '1%'},\n",
       " '1234000016': {'Product-Name': 'Jacket',\n",
       "  'Prod-Cost': 2000,\n",
       "  'Quantity-available': 14,\n",
       "  'Category': 'Fashion',\n",
       "  'Discount': 200,\n",
       "  'GST': '4%'},\n",
       " '1234000017': {'Product-Name': 'Routers',\n",
       "  'Prod-Cost': 2000,\n",
       "  'Quantity-available': 20,\n",
       "  'Category': 'Electronics',\n",
       "  'Discount': 200,\n",
       "  'GST': '5%'},\n",
       " '1234000018': {'Product-Name': 'Printers',\n",
       "  'Prod-Cost': 50000,\n",
       "  'Quantity-available': 5,\n",
       "  'Category': 'Electronics',\n",
       "  'Discount': 2000,\n",
       "  'GST': '25%'},\n",
       " '1234000019': {'Product-Name': 'Vegetables',\n",
       "  'Prod-Cost': 100,\n",
       "  'Quantity-available': 0,\n",
       "  'Category': 'Grocery',\n",
       "  'Discount': 15,\n",
       "  'GST': '2%'},\n",
       " '1234000020': {'Product-Name': 'Jewellery',\n",
       "  'Prod-Cost': 5000,\n",
       "  'Quantity-available': 24,\n",
       "  'Category': 'Fashion',\n",
       "  'Discount': 250,\n",
       "  'GST': '4%'},\n",
       " '1234000021': {'Product-Name': 'HomeTheaters',\n",
       "  'Prod-Cost': 10000,\n",
       "  'Quantity-available': 5,\n",
       "  'Category': 'Electronics',\n",
       "  'Discount': 1000,\n",
       "  'GST': '10%'},\n",
       " '1234000022': {'Product-Name': 'Oil',\n",
       "  'Prod-Cost': 40,\n",
       "  'Quantity-available': 40,\n",
       "  'Category': 'Grocery',\n",
       "  'Discount': 5,\n",
       "  'GST': '1%'},\n",
       " '1234000023': {'Product-Name': 'Oppo',\n",
       "  'Prod-Cost': 70000,\n",
       "  'Quantity-available': 1,\n",
       "  'Category': 'Mobiles',\n",
       "  'Discount': 5000,\n",
       "  'GST': '20%'},\n",
       " '1234000024': {'Product-Name': 'Watches',\n",
       "  'Prod-Cost': 1500,\n",
       "  'Quantity-available': 14,\n",
       "  'Category': 'Fashion',\n",
       "  'Discount': 200,\n",
       "  'GST': '4%'},\n",
       " '1234000025': {'Product-Name': 'Egg',\n",
       "  'Prod-Cost': 100,\n",
       "  'Quantity-available': 30,\n",
       "  'Category': 'Grocery',\n",
       "  'Discount': 15,\n",
       "  'GST': '2%'},\n",
       " '1234000026': {'Product-Name': 'Saree',\n",
       "  'Prod-Cost': 5000,\n",
       "  'Quantity-available': 19,\n",
       "  'Category': 'Fashion',\n",
       "  'Discount': 250,\n",
       "  'GST': '4%'},\n",
       " '1234000027': {'Product-Name': 'Powerbanks',\n",
       "  'Prod-Cost': 10000,\n",
       "  'Quantity-available': 5,\n",
       "  'Category': 'Electronics',\n",
       "  'Discount': 1000,\n",
       "  'GST': '10%'},\n",
       " '1234000028': {'Product-Name': 'chocolate',\n",
       "  'Prod-Cost': 40,\n",
       "  'Quantity-available': 40,\n",
       "  'Category': 'Grocery',\n",
       "  'Discount': 5,\n",
       "  'GST': '1%'},\n",
       " '1234000029': {'Product-Name': 'samsung',\n",
       "  'Prod-Cost': 70000,\n",
       "  'Quantity-available': 2,\n",
       "  'Category': 'Mobiles',\n",
       "  'Discount': 5000,\n",
       "  'GST': '20%'},\n",
       " '1234000030': {'Product-Name': 't-shirts',\n",
       "  'Prod-Cost': 1500,\n",
       "  'Quantity-available': 9,\n",
       "  'Category': 'Fashion',\n",
       "  'Discount': 200,\n",
       "  'GST': '4%'},\n",
       " '1234000031': {'Product-Name': 'shampoo',\n",
       "  'Prod-Cost': 40,\n",
       "  'Quantity-available': 20,\n",
       "  'Category': 'Grocery',\n",
       "  'Discount': 3,\n",
       "  'GST': '1%'},\n",
       " '1234000032': {'Product-Name': 'Micromax',\n",
       "  'Prod-Cost': 30000,\n",
       "  'Quantity-available': 5,\n",
       "  'Category': 'Mobile',\n",
       "  'Discount': 3000,\n",
       "  'GST': '10%'}}"
      ]
     },
     "execution_count": 165,
     "metadata": {},
     "output_type": "execute_result"
    }
   ],
   "source": [
    "record_dict"
   ]
  },
  {
   "cell_type": "markdown",
   "id": "1cfad8e1",
   "metadata": {},
   "source": [
    "# Introduction to Inventory"
   ]
  },
  {
   "cell_type": "code",
   "execution_count": 166,
   "id": "03f465d3",
   "metadata": {
    "scrolled": false
   },
   "outputs": [
    {
     "name": "stdout",
     "output_type": "stream",
     "text": [
      "Please Enter Your Name Gamora\n",
      "**************************************************\n",
      "Welcome to Yeshwanth Inventory Management System!\n",
      "Hi  Gamora!\n",
      "What Do You Want To Buy! ;)\n",
      "**************************************************\n",
      "Products Available\n",
      "Product_ID  Product_Name  Cost  Discount\n",
      "\n",
      "123400001 Xiaomi 20000 5\n",
      "123400002 Laptop 40000 0\n",
      "123400003 Sugar 50 20\n",
      "123400004 Geans Pants 2000 10\n",
      "123400005 Earphone 2000 20\n",
      "123400006 Tablets 50000 7\n",
      "123400007 Spices 100 30\n",
      "123400008 Kids Wear 5000 24\n",
      "123400009 SmartWatches 10000 5\n",
      "1234000010 Soaps 40 40\n",
      "1234000011 IPhone 70000 2\n",
      "1234000012 Shoes 1500 14\n",
      "1234000013 Vivo 20000 10\n",
      "1234000014 Speakers 40000 3\n",
      "1234000015 Gee 50 20\n",
      "1234000016 Jacket 2000 14\n",
      "1234000017 Routers 2000 20\n",
      "1234000018 Printers 50000 5\n",
      "1234000019 Vegetables 100 0\n",
      "1234000020 Jewellery 5000 24\n",
      "1234000021 HomeTheaters 10000 5\n",
      "1234000022 Oil 40 40\n",
      "1234000023 Oppo 70000 1\n",
      "1234000024 Watches 1500 14\n",
      "1234000025 Egg 100 30\n",
      "1234000026 Saree 5000 19\n",
      "1234000027 Powerbanks 10000 5\n",
      "1234000028 chocolate 40 40\n",
      "1234000029 samsung 70000 2\n",
      "1234000030 t-shirts 1500 9\n",
      "1234000031 shampoo 40 20\n",
      "1234000032 Micromax 30000 5\n"
     ]
    }
   ],
   "source": [
    "# Intro\n",
    "\n",
    "name = input(\"Please Enter Your Name \")\n",
    "print(\"**************************************************\")\n",
    "print(\"Welcome to Yeshwanth Inventory Management System!\")\n",
    "print(\"Hi \", name+\"!\")\n",
    "print(\"What Do You Want To Buy! ;)\")\n",
    "print(\"**************************************************\")\n",
    "\n",
    "print(\"Products Available\")\n",
    "\n",
    "print(\"Product_ID  Product_Name  Cost  Discount\")\n",
    "print()\n",
    "for i in range(1,len(record_dict)+1,1):\n",
    "    if(i < 10):\n",
    "        data = 123400000+i;\n",
    "    else:\n",
    "        data = 1234000000+i;\n",
    "    print(data , record_dict[str(data)][\"Product-Name\"] , record_dict[str(data)][\"Prod-Cost\"] , record_dict[str(data)][\"Quantity-available\"])\n"
   ]
  },
  {
   "cell_type": "markdown",
   "id": "853009ab",
   "metadata": {},
   "source": [
    "## Purchase  Products"
   ]
  },
  {
   "cell_type": "code",
   "execution_count": 167,
   "id": "ec04ee2d",
   "metadata": {},
   "outputs": [],
   "source": [
    "import time"
   ]
  },
  {
   "cell_type": "code",
   "execution_count": 168,
   "id": "c7c9b69f",
   "metadata": {},
   "outputs": [
    {
     "name": "stdout",
     "output_type": "stream",
     "text": [
      "Enter the Product Id to BUY: 1234000028\n",
      "Enter the Quantity: 20\n",
      "\n",
      "\n",
      "***************PRODUCT BILL***************\n",
      "******************************************\n",
      "Product ID:  1234000028\n",
      "Product Name:  chocolate\n",
      "cost:  40\n",
      "Discount:  5\n",
      "******************************************\n",
      "TOTAL BILLING AMOUNT:  700\n",
      "******************************************\n",
      "Thank you for shopping with us\n",
      "See you soon bye!!! :)\n",
      "******************************************\n",
      "Mon Sep  6 13:43:53 2021\n",
      "\n",
      "\n"
     ]
    }
   ],
   "source": [
    "prod_id = str(input(\"Enter the Product Id to BUY: \"))\n",
    "quantity = int(input(\"Enter the Quantity: \"))\n",
    "\n",
    "flag = False\n",
    "for i in range(1,len(record_dict)+1,1):\n",
    "    if(i < 10):\n",
    "        data = 123400000+i;\n",
    "    else:\n",
    "        data = 1234000000+i;\n",
    "    if(prod_id == str(data)):\n",
    "        flag = True;\n",
    "        if(record_dict[str(data)][\"Quantity-available\"] == 0):\n",
    "            \n",
    "            #For checking quantity\n",
    "            print(\"*******************************************\")\n",
    "            print(\"Quantity Is NOT Currently Available!!!!!\")\n",
    "            print(\"*******************************************\")\n",
    "        else:\n",
    "            \n",
    "            # Billing\n",
    "            print()\n",
    "            print()\n",
    "            print(\"***************PRODUCT BILL***************\")\n",
    "            print(\"******************************************\")\n",
    "            print(\"Product ID: \", data)\n",
    "            print(\"Product Name: \", record_dict[str(data)][\"Product-Name\"])\n",
    "            print(\"cost: \", record_dict[str(data)][\"Prod-Cost\"])\n",
    "            print(\"Discount: \", record_dict[str(data)][\"Discount\"])\n",
    "            print(\"******************************************\")\n",
    "            print(\"TOTAL BILLING AMOUNT: \", (record_dict[str(data)][\"Prod-Cost\"]*quantity)-(abs(quantity*record_dict[str(data)][\"Discount\"])))\n",
    "            print(\"******************************************\")\n",
    "            print(\"Thank you for shopping with us\")\n",
    "            print(\"See you soon bye!!! :)\")\n",
    "            print(\"******************************************\")\n",
    "            print(time.ctime())\n",
    "            print()\n",
    "            print()\n",
    "            \n",
    "            #Updating Quantity\n",
    "            record_dict[str(data)][\"Quantity-available\"] = record_dict[str(data)][\"Quantity-available\"]-quantity\n",
    "            break\n",
    "\n",
    "# For not valid id\n",
    "if(not(flag)):                 \n",
    "    print(\"**********************************\")\n",
    "    print(\"Please Enter Valid Product ID!!!!\")\n",
    "    print(\"**********************************\")\n",
    "    "
   ]
  },
  {
   "cell_type": "markdown",
   "id": "07ff53b8",
   "metadata": {},
   "source": [
    "## Update Inventory After Purchase"
   ]
  },
  {
   "cell_type": "code",
   "execution_count": 169,
   "id": "d620d12c",
   "metadata": {},
   "outputs": [],
   "source": [
    "js = json.dumps(record_dict)\n",
    "\n",
    "# Update the Record file\n",
    "fd = open(\"Record_data.json\", \"w\")\n",
    "fd.write(js)\n",
    "fd.close()"
   ]
  },
  {
   "cell_type": "markdown",
   "id": "bc561bb3",
   "metadata": {},
   "source": [
    "## Sales JSON File"
   ]
  },
  {
   "cell_type": "code",
   "execution_count": 170,
   "id": "ebffe774",
   "metadata": {},
   "outputs": [],
   "source": [
    "# Read Sales JSON File\n",
    "\n",
    "fd = open(\"Sales.json\", \"r\")\n",
    "sales_record = fd.read()\n",
    "fd.close()"
   ]
  },
  {
   "cell_type": "code",
   "execution_count": 171,
   "id": "33053347",
   "metadata": {},
   "outputs": [
    {
     "data": {
      "text/plain": [
       "'{\"1\": {\"Product Name\": \"Speakers\", \"Cost\": 40000, \"CustomerName\": \"Yeshi\", \"Quantity\": 1, \"Discount\": 1000, \"TotalCost\": 40000, \"Time\": \"Mon Sep  6 12:44:08 2021\"}, \"2\": {\"Product Name\": \"Vegetables\", \"Cost\": 40, \"CustomerName\": \"Robert\", \"Quantity\": 10, \"Discount\": 15, \"TotalCost\": 385, \"Time\": \"Mon Sep  6 12:50:08 2021\"}, \"3\": {\"Product Name\": \"Vegetables\", \"Cost\": 40, \"CustomerName\": \"Chris\", \"Quantity\": 10, \"Discount\": 15, \"TotalCost\": 385, \"Time\": \"Mon Sep  6 1:44:08 2021\"}, \"4\": {\"Product Name\": \"t-shirts\", \"Cost\": 1500, \"CustomerName\": \"John\", \"Quantity\": 5, \"Discount\": 200, \"TotalCost\": 6500, \"Time\": \"Mon Sep  6 13:30:04 2021\"}, \"5\": {\"Product Name\": \"Geans Pants\", \"Cost\": 2000, \"CustomerName\": \"John\", \"Quantity\": 4, \"Discount\": 200, \"TotalCost\": 7200, \"Time\": \"Mon Sep  6 13:38:57 2021\"}, \"6\": {\"Product Name\": \"Oppo\", \"Cost\": 70000, \"CustomerName\": \"Ramesh\", \"Quantity\": 1, \"Discount\": 5000, \"TotalCost\": 65000, \"Time\": \"Mon Sep  6 13:40:05 2021\"}, \"7\": {\"Product Name\": \"shampoo\", \"Cost\": 40, \"CustomerName\": \"Yogesh\", \"Quantity\": 10, \"Discount\": 3, \"TotalCost\": 370, \"Time\": \"Mon Sep  6 13:40:53 2021\"}, \"8\": {\"Product Name\": \"Saree\", \"Cost\": 5000, \"CustomerName\": \"Sharath\", \"Quantity\": 5, \"Discount\": 250, \"TotalCost\": 23750, \"Time\": \"Mon Sep  6 13:41:27 2021\"}, \"9\": {\"Product Name\": \"Laptop\", \"Cost\": 40000, \"CustomerName\": \"Scarlett\", \"Quantity\": 2, \"Discount\": 5000, \"TotalCost\": 70000, \"Time\": \"Mon Sep  6 13:42:48 2021\"}}'"
      ]
     },
     "execution_count": 171,
     "metadata": {},
     "output_type": "execute_result"
    }
   ],
   "source": [
    "sales_record"
   ]
  },
  {
   "cell_type": "code",
   "execution_count": 172,
   "id": "2578968f",
   "metadata": {},
   "outputs": [],
   "source": [
    "# Converting Json to Dict\n",
    "\n",
    "sales_dict = json.loads(sales_record)"
   ]
  },
  {
   "cell_type": "code",
   "execution_count": 173,
   "id": "0ed6924c",
   "metadata": {},
   "outputs": [
    {
     "data": {
      "text/plain": [
       "{'1': {'Product Name': 'Speakers',\n",
       "  'Cost': 40000,\n",
       "  'CustomerName': 'Yeshi',\n",
       "  'Quantity': 1,\n",
       "  'Discount': 1000,\n",
       "  'TotalCost': 40000,\n",
       "  'Time': 'Mon Sep  6 12:44:08 2021'},\n",
       " '2': {'Product Name': 'Vegetables',\n",
       "  'Cost': 40,\n",
       "  'CustomerName': 'Robert',\n",
       "  'Quantity': 10,\n",
       "  'Discount': 15,\n",
       "  'TotalCost': 385,\n",
       "  'Time': 'Mon Sep  6 12:50:08 2021'},\n",
       " '3': {'Product Name': 'Vegetables',\n",
       "  'Cost': 40,\n",
       "  'CustomerName': 'Chris',\n",
       "  'Quantity': 10,\n",
       "  'Discount': 15,\n",
       "  'TotalCost': 385,\n",
       "  'Time': 'Mon Sep  6 1:44:08 2021'},\n",
       " '4': {'Product Name': 't-shirts',\n",
       "  'Cost': 1500,\n",
       "  'CustomerName': 'John',\n",
       "  'Quantity': 5,\n",
       "  'Discount': 200,\n",
       "  'TotalCost': 6500,\n",
       "  'Time': 'Mon Sep  6 13:30:04 2021'},\n",
       " '5': {'Product Name': 'Geans Pants',\n",
       "  'Cost': 2000,\n",
       "  'CustomerName': 'John',\n",
       "  'Quantity': 4,\n",
       "  'Discount': 200,\n",
       "  'TotalCost': 7200,\n",
       "  'Time': 'Mon Sep  6 13:38:57 2021'},\n",
       " '6': {'Product Name': 'Oppo',\n",
       "  'Cost': 70000,\n",
       "  'CustomerName': 'Ramesh',\n",
       "  'Quantity': 1,\n",
       "  'Discount': 5000,\n",
       "  'TotalCost': 65000,\n",
       "  'Time': 'Mon Sep  6 13:40:05 2021'},\n",
       " '7': {'Product Name': 'shampoo',\n",
       "  'Cost': 40,\n",
       "  'CustomerName': 'Yogesh',\n",
       "  'Quantity': 10,\n",
       "  'Discount': 3,\n",
       "  'TotalCost': 370,\n",
       "  'Time': 'Mon Sep  6 13:40:53 2021'},\n",
       " '8': {'Product Name': 'Saree',\n",
       "  'Cost': 5000,\n",
       "  'CustomerName': 'Sharath',\n",
       "  'Quantity': 5,\n",
       "  'Discount': 250,\n",
       "  'TotalCost': 23750,\n",
       "  'Time': 'Mon Sep  6 13:41:27 2021'},\n",
       " '9': {'Product Name': 'Laptop',\n",
       "  'Cost': 40000,\n",
       "  'CustomerName': 'Scarlett',\n",
       "  'Quantity': 2,\n",
       "  'Discount': 5000,\n",
       "  'TotalCost': 70000,\n",
       "  'Time': 'Mon Sep  6 13:42:48 2021'}}"
      ]
     },
     "execution_count": 173,
     "metadata": {},
     "output_type": "execute_result"
    }
   ],
   "source": [
    "sales_dict"
   ]
  },
  {
   "cell_type": "code",
   "execution_count": 174,
   "id": "8b861088",
   "metadata": {},
   "outputs": [
    {
     "data": {
      "text/plain": [
       "9"
      ]
     },
     "execution_count": 174,
     "metadata": {},
     "output_type": "execute_result"
    }
   ],
   "source": [
    "len(sales_dict)"
   ]
  },
  {
   "cell_type": "markdown",
   "id": "b29e1760",
   "metadata": {},
   "source": [
    "## Updating Sales JSON"
   ]
  },
  {
   "cell_type": "code",
   "execution_count": 175,
   "id": "1f49a329",
   "metadata": {},
   "outputs": [],
   "source": [
    "# Update\n",
    "\n",
    "sales_dict[len(sales_dict)+1] = {\"Product Name\": record_dict[str(data)][\"Product-Name\"], \"Cost\": record_dict[str(data)][\"Prod-Cost\"],\"CustomerName\": name , \"Quantity\": quantity,\"Discount\": record_dict[str(data)][\"Discount\"], \"TotalCost\" : (record_dict[str(data)][\"Prod-Cost\"]*quantity)-(abs(quantity*record_dict[str(data)][\"Discount\"])), \"Time\": time.ctime()}"
   ]
  },
  {
   "cell_type": "code",
   "execution_count": 176,
   "id": "7dfd4b55",
   "metadata": {},
   "outputs": [
    {
     "data": {
      "text/plain": [
       "{'1': {'Product Name': 'Speakers',\n",
       "  'Cost': 40000,\n",
       "  'CustomerName': 'Yeshi',\n",
       "  'Quantity': 1,\n",
       "  'Discount': 1000,\n",
       "  'TotalCost': 40000,\n",
       "  'Time': 'Mon Sep  6 12:44:08 2021'},\n",
       " '2': {'Product Name': 'Vegetables',\n",
       "  'Cost': 40,\n",
       "  'CustomerName': 'Robert',\n",
       "  'Quantity': 10,\n",
       "  'Discount': 15,\n",
       "  'TotalCost': 385,\n",
       "  'Time': 'Mon Sep  6 12:50:08 2021'},\n",
       " '3': {'Product Name': 'Vegetables',\n",
       "  'Cost': 40,\n",
       "  'CustomerName': 'Chris',\n",
       "  'Quantity': 10,\n",
       "  'Discount': 15,\n",
       "  'TotalCost': 385,\n",
       "  'Time': 'Mon Sep  6 1:44:08 2021'},\n",
       " '4': {'Product Name': 't-shirts',\n",
       "  'Cost': 1500,\n",
       "  'CustomerName': 'John',\n",
       "  'Quantity': 5,\n",
       "  'Discount': 200,\n",
       "  'TotalCost': 6500,\n",
       "  'Time': 'Mon Sep  6 13:30:04 2021'},\n",
       " '5': {'Product Name': 'Geans Pants',\n",
       "  'Cost': 2000,\n",
       "  'CustomerName': 'John',\n",
       "  'Quantity': 4,\n",
       "  'Discount': 200,\n",
       "  'TotalCost': 7200,\n",
       "  'Time': 'Mon Sep  6 13:38:57 2021'},\n",
       " '6': {'Product Name': 'Oppo',\n",
       "  'Cost': 70000,\n",
       "  'CustomerName': 'Ramesh',\n",
       "  'Quantity': 1,\n",
       "  'Discount': 5000,\n",
       "  'TotalCost': 65000,\n",
       "  'Time': 'Mon Sep  6 13:40:05 2021'},\n",
       " '7': {'Product Name': 'shampoo',\n",
       "  'Cost': 40,\n",
       "  'CustomerName': 'Yogesh',\n",
       "  'Quantity': 10,\n",
       "  'Discount': 3,\n",
       "  'TotalCost': 370,\n",
       "  'Time': 'Mon Sep  6 13:40:53 2021'},\n",
       " '8': {'Product Name': 'Saree',\n",
       "  'Cost': 5000,\n",
       "  'CustomerName': 'Sharath',\n",
       "  'Quantity': 5,\n",
       "  'Discount': 250,\n",
       "  'TotalCost': 23750,\n",
       "  'Time': 'Mon Sep  6 13:41:27 2021'},\n",
       " '9': {'Product Name': 'Laptop',\n",
       "  'Cost': 40000,\n",
       "  'CustomerName': 'Scarlett',\n",
       "  'Quantity': 2,\n",
       "  'Discount': 5000,\n",
       "  'TotalCost': 70000,\n",
       "  'Time': 'Mon Sep  6 13:42:48 2021'},\n",
       " 10: {'Product Name': 'chocolate',\n",
       "  'Cost': 40,\n",
       "  'CustomerName': 'Gamora',\n",
       "  'Quantity': 20,\n",
       "  'Discount': 5,\n",
       "  'TotalCost': 700,\n",
       "  'Time': 'Mon Sep  6 13:43:59 2021'}}"
      ]
     },
     "execution_count": 176,
     "metadata": {},
     "output_type": "execute_result"
    }
   ],
   "source": [
    "sales_dict"
   ]
  },
  {
   "cell_type": "code",
   "execution_count": 177,
   "id": "11ff0ebd",
   "metadata": {},
   "outputs": [],
   "source": [
    "# Update the sales \n",
    "\n",
    "js_sales = json.dumps(sales_dict)\n",
    "\n",
    "# Update the Record file\n",
    "fd = open(\"Sales.json\", \"w\")\n",
    "fd.write(js_sales)\n",
    "fd.close()"
   ]
  },
  {
   "cell_type": "code",
   "execution_count": null,
   "id": "30c9f78e",
   "metadata": {},
   "outputs": [],
   "source": []
  }
 ],
 "metadata": {
  "kernelspec": {
   "display_name": "Python 3",
   "language": "python",
   "name": "python3"
  },
  "language_info": {
   "codemirror_mode": {
    "name": "ipython",
    "version": 3
   },
   "file_extension": ".py",
   "mimetype": "text/x-python",
   "name": "python",
   "nbconvert_exporter": "python",
   "pygments_lexer": "ipython3",
   "version": "3.8.8"
  }
 },
 "nbformat": 4,
 "nbformat_minor": 5
}
