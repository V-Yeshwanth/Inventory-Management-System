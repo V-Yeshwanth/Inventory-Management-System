{
 "cells": [
  {
   "cell_type": "markdown",
   "id": "de66e49d",
   "metadata": {},
   "source": [
    "## Add Item Into Inventory"
   ]
  },
  {
   "cell_type": "code",
   "execution_count": 14,
   "id": "316f113c",
   "metadata": {},
   "outputs": [
    {
     "name": "stdout",
     "output_type": "stream",
     "text": [
      "{\"123400001\": {\"Product-Name\": \"MobilePhone\", \"Prod-Cost\": 20000, \"Quantity-available\": 10, \"Category\": \"Mobile\", \"Discount\": 2000, \"GST\": \"10%\"}, \"123400002\": {\"Product-Name\": \"Laptop\", \"Prod-Cost\": 40000, \"Quantity-available\": 4, \"Category\": \"Electronics\", \"Discount\": 5000, \"GST\": \"15%\"}, \"123400003\": {\"Product-Name\": \"Sugar\", \"Prod-Cost\": 50, \"Quantity-available\": 20, \"Category\": \"Grocery\", \"Discount\": 5, \"GST\": \"1%\"}, \"123400004\": {\"Product-Name\": \"Geans Pants\", \"Prod-Cost\": 2000, \"Quantity-available\": 14, \"Category\": \"Fashion\", \"Discount\": 200, \"GST\": \"4%\"}, \"123400005\": {\"Product-Name\": \"Earphone\", \"Prod-Cost\": 2000, \"Quantity-available\": 20, \"Category\": \"Electronics\", \"Discount\": 200, \"GST\": \"5%\"}, \"123400006\": {\"Product-Name\": \"Tablets\", \"Prod-Cost\": 50000, \"Quantity-available\": 7, \"Category\": \"Electronics\", \"Discount\": 2000, \"GST\": \"25%\"}, \"123400007\": {\"Product-Name\": \"Spices\", \"Prod-Cost\": 100, \"Quantity-available\": 30, \"Category\": \"Grocery\", \"Discount\": 15, \"GST\": \"2%\"}, \"123400008\": {\"Product-Name\": \"Kids Wear\", \"Prod-Cost\": 5000, \"Quantity-available\": 24, \"Category\": \"Fashion\", \"Discount\": 250, \"GST\": \"4%\"}, \"123400009\": {\"Product-Name\": \"SmartWatches\", \"Prod-Cost\": 10000, \"Quantity-available\": 5, \"Category\": \"Electronics\", \"Discount\": 1000, \"GST\": \"10%\"}, \"1234000010\": {\"Product-Name\": \"Soaps\", \"Prod-Cost\": 40, \"Quantity-available\": 40, \"Category\": \"Grocery\", \"Discount\": 5, \"GST\": \"1%\"}, \"1234000011\": {\"Product-Name\": \"IPhone\", \"Prod-Cost\": 70000, \"Quantity-available\": 2, \"Category\": \"Mobiles\", \"Discount\": 5000, \"GST\": \"20%\"}, \"1234000012\": {\"Product-Name\": \"Shoes\", \"Prod-Cost\": 1500, \"Quantity-available\": 14, \"Category\": \"Fashion\", \"Discount\": 200, \"GST\": \"4%\"}, \"1234000013\": {\"Product-Name\": \"Vivo\", \"Prod-Cost\": 20000, \"Quantity-available\": 10, \"Category\": \"Mobile\", \"Discount\": 2000, \"GST\": \"10%\"}, \"1234000014\": {\"Product-Name\": \"Speakers\", \"Prod-Cost\": 40000, \"Quantity-available\": 4, \"Category\": \"Electronics\", \"Discount\": 5000, \"GST\": \"15%\"}, \"1234000015\": {\"Product-Name\": \"Gee\", \"Prod-Cost\": 50, \"Quantity-available\": 20, \"Category\": \"Grocery\", \"Discount\": 5, \"GST\": \"1%\"}, \"1234000016\": {\"Product-Name\": \"Jacket\", \"Prod-Cost\": 2000, \"Quantity-available\": 14, \"Category\": \"Fashion\", \"Discount\": 200, \"GST\": \"4%\"}, \"1234000017\": {\"Product-Name\": \"Routers\", \"Prod-Cost\": 2000, \"Quantity-available\": 20, \"Category\": \"Electronics\", \"Discount\": 200, \"GST\": \"5%\"}, \"1234000018\": {\"Product-Name\": \"Printers\", \"Prod-Cost\": 50000, \"Quantity-available\": 7, \"Category\": \"Electronics\", \"Discount\": 2000, \"GST\": \"25%\"}, \"1234000019\": {\"Product-Name\": \"Vegetables\", \"Prod-Cost\": 100, \"Quantity-available\": 30, \"Category\": \"Grocery\", \"Discount\": 15, \"GST\": \"2%\"}, \"1234000020\": {\"Product-Name\": \"Jewellery\", \"Prod-Cost\": 5000, \"Quantity-available\": 24, \"Category\": \"Fashion\", \"Discount\": 250, \"GST\": \"4%\"}, \"1234000021\": {\"Product-Name\": \"HomeTheaters\", \"Prod-Cost\": 10000, \"Quantity-available\": 5, \"Category\": \"Electronics\", \"Discount\": 1000, \"GST\": \"10%\"}, \"1234000022\": {\"Product-Name\": \"Oil\", \"Prod-Cost\": 40, \"Quantity-available\": 40, \"Category\": \"Grocery\", \"Discount\": 5, \"GST\": \"1%\"}, \"1234000023\": {\"Product-Name\": \"Oppo\", \"Prod-Cost\": 70000, \"Quantity-available\": 2, \"Category\": \"Mobiles\", \"Discount\": 5000, \"GST\": \"20%\"}, \"1234000024\": {\"Product-Name\": \"Watches\", \"Prod-Cost\": 1500, \"Quantity-available\": 14, \"Category\": \"Fashion\", \"Discount\": 200, \"GST\": \"4%\"}, \"1234000025\": {\"Product-Name\": \"Egg\", \"Prod-Cost\": 100, \"Quantity-available\": 30, \"Category\": \"Grocery\", \"Discount\": 15, \"GST\": \"2%\"}, \"1234000026\": {\"Product-Name\": \"Saree\", \"Prod-Cost\": 5000, \"Quantity-available\": 24, \"Category\": \"Fashion\", \"Discount\": 250, \"GST\": \"4%\"}, \"1234000027\": {\"Product-Name\": \"Powerbanks\", \"Prod-Cost\": 10000, \"Quantity-available\": 5, \"Category\": \"Electronics\", \"Discount\": 1000, \"GST\": \"10%\"}, \"1234000028\": {\"Product-Name\": \"chocolate\", \"Prod-Cost\": 40, \"Quantity-available\": 40, \"Category\": \"Grocery\", \"Discount\": 5, \"GST\": \"1%\"}, \"1234000029\": {\"Product-Name\": \"samsung\", \"Prod-Cost\": 70000, \"Quantity-available\": 2, \"Category\": \"Mobiles\", \"Discount\": 5000, \"GST\": \"20%\"}, \"1234000030\": {\"Product-Name\": \"t-shirts\", \"Prod-Cost\": 1500, \"Quantity-available\": 14, \"Category\": \"Fashion\", \"Discount\": 200, \"GST\": \"4%\"}}\n"
     ]
    }
   ],
   "source": [
    "# Read Json File \n",
    "records = open(\"Record_data.json\", \"r\")\n",
    "record_data = records.read()\n",
    "print(record_data)\n",
    "records.close()"
   ]
  },
  {
   "cell_type": "code",
   "execution_count": 15,
   "id": "ccce6ea9",
   "metadata": {},
   "outputs": [
    {
     "data": {
      "text/plain": [
       "4259"
      ]
     },
     "execution_count": 15,
     "metadata": {},
     "output_type": "execute_result"
    }
   ],
   "source": [
    "len(record_data)"
   ]
  },
  {
   "cell_type": "code",
   "execution_count": 16,
   "id": "6afd3f4e",
   "metadata": {},
   "outputs": [
    {
     "data": {
      "text/plain": [
       "str"
      ]
     },
     "execution_count": 16,
     "metadata": {},
     "output_type": "execute_result"
    }
   ],
   "source": [
    "type(record_data)"
   ]
  },
  {
   "cell_type": "code",
   "execution_count": 17,
   "id": "d8bd5852",
   "metadata": {},
   "outputs": [],
   "source": [
    "import json\n",
    "\n",
    "js_record = json.loads(record_data)"
   ]
  },
  {
   "cell_type": "code",
   "execution_count": 18,
   "id": "983889c5",
   "metadata": {},
   "outputs": [
    {
     "data": {
      "text/plain": [
       "{'123400001': {'Product-Name': 'MobilePhone',\n",
       "  'Prod-Cost': 20000,\n",
       "  'Quantity-available': 10,\n",
       "  'Category': 'Mobile',\n",
       "  'Discount': 2000,\n",
       "  'GST': '10%'},\n",
       " '123400002': {'Product-Name': 'Laptop',\n",
       "  'Prod-Cost': 40000,\n",
       "  'Quantity-available': 4,\n",
       "  'Category': 'Electronics',\n",
       "  'Discount': 5000,\n",
       "  'GST': '15%'},\n",
       " '123400003': {'Product-Name': 'Sugar',\n",
       "  'Prod-Cost': 50,\n",
       "  'Quantity-available': 20,\n",
       "  'Category': 'Grocery',\n",
       "  'Discount': 5,\n",
       "  'GST': '1%'},\n",
       " '123400004': {'Product-Name': 'Geans Pants',\n",
       "  'Prod-Cost': 2000,\n",
       "  'Quantity-available': 14,\n",
       "  'Category': 'Fashion',\n",
       "  'Discount': 200,\n",
       "  'GST': '4%'},\n",
       " '123400005': {'Product-Name': 'Earphone',\n",
       "  'Prod-Cost': 2000,\n",
       "  'Quantity-available': 20,\n",
       "  'Category': 'Electronics',\n",
       "  'Discount': 200,\n",
       "  'GST': '5%'},\n",
       " '123400006': {'Product-Name': 'Tablets',\n",
       "  'Prod-Cost': 50000,\n",
       "  'Quantity-available': 7,\n",
       "  'Category': 'Electronics',\n",
       "  'Discount': 2000,\n",
       "  'GST': '25%'},\n",
       " '123400007': {'Product-Name': 'Spices',\n",
       "  'Prod-Cost': 100,\n",
       "  'Quantity-available': 30,\n",
       "  'Category': 'Grocery',\n",
       "  'Discount': 15,\n",
       "  'GST': '2%'},\n",
       " '123400008': {'Product-Name': 'Kids Wear',\n",
       "  'Prod-Cost': 5000,\n",
       "  'Quantity-available': 24,\n",
       "  'Category': 'Fashion',\n",
       "  'Discount': 250,\n",
       "  'GST': '4%'},\n",
       " '123400009': {'Product-Name': 'SmartWatches',\n",
       "  'Prod-Cost': 10000,\n",
       "  'Quantity-available': 5,\n",
       "  'Category': 'Electronics',\n",
       "  'Discount': 1000,\n",
       "  'GST': '10%'},\n",
       " '1234000010': {'Product-Name': 'Soaps',\n",
       "  'Prod-Cost': 40,\n",
       "  'Quantity-available': 40,\n",
       "  'Category': 'Grocery',\n",
       "  'Discount': 5,\n",
       "  'GST': '1%'},\n",
       " '1234000011': {'Product-Name': 'IPhone',\n",
       "  'Prod-Cost': 70000,\n",
       "  'Quantity-available': 2,\n",
       "  'Category': 'Mobiles',\n",
       "  'Discount': 5000,\n",
       "  'GST': '20%'},\n",
       " '1234000012': {'Product-Name': 'Shoes',\n",
       "  'Prod-Cost': 1500,\n",
       "  'Quantity-available': 14,\n",
       "  'Category': 'Fashion',\n",
       "  'Discount': 200,\n",
       "  'GST': '4%'},\n",
       " '1234000013': {'Product-Name': 'Vivo',\n",
       "  'Prod-Cost': 20000,\n",
       "  'Quantity-available': 10,\n",
       "  'Category': 'Mobile',\n",
       "  'Discount': 2000,\n",
       "  'GST': '10%'},\n",
       " '1234000014': {'Product-Name': 'Speakers',\n",
       "  'Prod-Cost': 40000,\n",
       "  'Quantity-available': 4,\n",
       "  'Category': 'Electronics',\n",
       "  'Discount': 5000,\n",
       "  'GST': '15%'},\n",
       " '1234000015': {'Product-Name': 'Gee',\n",
       "  'Prod-Cost': 50,\n",
       "  'Quantity-available': 20,\n",
       "  'Category': 'Grocery',\n",
       "  'Discount': 5,\n",
       "  'GST': '1%'},\n",
       " '1234000016': {'Product-Name': 'Jacket',\n",
       "  'Prod-Cost': 2000,\n",
       "  'Quantity-available': 14,\n",
       "  'Category': 'Fashion',\n",
       "  'Discount': 200,\n",
       "  'GST': '4%'},\n",
       " '1234000017': {'Product-Name': 'Routers',\n",
       "  'Prod-Cost': 2000,\n",
       "  'Quantity-available': 20,\n",
       "  'Category': 'Electronics',\n",
       "  'Discount': 200,\n",
       "  'GST': '5%'},\n",
       " '1234000018': {'Product-Name': 'Printers',\n",
       "  'Prod-Cost': 50000,\n",
       "  'Quantity-available': 7,\n",
       "  'Category': 'Electronics',\n",
       "  'Discount': 2000,\n",
       "  'GST': '25%'},\n",
       " '1234000019': {'Product-Name': 'Vegetables',\n",
       "  'Prod-Cost': 100,\n",
       "  'Quantity-available': 30,\n",
       "  'Category': 'Grocery',\n",
       "  'Discount': 15,\n",
       "  'GST': '2%'},\n",
       " '1234000020': {'Product-Name': 'Jewellery',\n",
       "  'Prod-Cost': 5000,\n",
       "  'Quantity-available': 24,\n",
       "  'Category': 'Fashion',\n",
       "  'Discount': 250,\n",
       "  'GST': '4%'},\n",
       " '1234000021': {'Product-Name': 'HomeTheaters',\n",
       "  'Prod-Cost': 10000,\n",
       "  'Quantity-available': 5,\n",
       "  'Category': 'Electronics',\n",
       "  'Discount': 1000,\n",
       "  'GST': '10%'},\n",
       " '1234000022': {'Product-Name': 'Oil',\n",
       "  'Prod-Cost': 40,\n",
       "  'Quantity-available': 40,\n",
       "  'Category': 'Grocery',\n",
       "  'Discount': 5,\n",
       "  'GST': '1%'},\n",
       " '1234000023': {'Product-Name': 'Oppo',\n",
       "  'Prod-Cost': 70000,\n",
       "  'Quantity-available': 2,\n",
       "  'Category': 'Mobiles',\n",
       "  'Discount': 5000,\n",
       "  'GST': '20%'},\n",
       " '1234000024': {'Product-Name': 'Watches',\n",
       "  'Prod-Cost': 1500,\n",
       "  'Quantity-available': 14,\n",
       "  'Category': 'Fashion',\n",
       "  'Discount': 200,\n",
       "  'GST': '4%'},\n",
       " '1234000025': {'Product-Name': 'Egg',\n",
       "  'Prod-Cost': 100,\n",
       "  'Quantity-available': 30,\n",
       "  'Category': 'Grocery',\n",
       "  'Discount': 15,\n",
       "  'GST': '2%'},\n",
       " '1234000026': {'Product-Name': 'Saree',\n",
       "  'Prod-Cost': 5000,\n",
       "  'Quantity-available': 24,\n",
       "  'Category': 'Fashion',\n",
       "  'Discount': 250,\n",
       "  'GST': '4%'},\n",
       " '1234000027': {'Product-Name': 'Powerbanks',\n",
       "  'Prod-Cost': 10000,\n",
       "  'Quantity-available': 5,\n",
       "  'Category': 'Electronics',\n",
       "  'Discount': 1000,\n",
       "  'GST': '10%'},\n",
       " '1234000028': {'Product-Name': 'chocolate',\n",
       "  'Prod-Cost': 40,\n",
       "  'Quantity-available': 40,\n",
       "  'Category': 'Grocery',\n",
       "  'Discount': 5,\n",
       "  'GST': '1%'},\n",
       " '1234000029': {'Product-Name': 'samsung',\n",
       "  'Prod-Cost': 70000,\n",
       "  'Quantity-available': 2,\n",
       "  'Category': 'Mobiles',\n",
       "  'Discount': 5000,\n",
       "  'GST': '20%'},\n",
       " '1234000030': {'Product-Name': 't-shirts',\n",
       "  'Prod-Cost': 1500,\n",
       "  'Quantity-available': 14,\n",
       "  'Category': 'Fashion',\n",
       "  'Discount': 200,\n",
       "  'GST': '4%'}}"
      ]
     },
     "execution_count": 18,
     "metadata": {},
     "output_type": "execute_result"
    }
   ],
   "source": [
    "js_record"
   ]
  },
  {
   "cell_type": "code",
   "execution_count": 19,
   "id": "6ddf81d0",
   "metadata": {},
   "outputs": [
    {
     "data": {
      "text/plain": [
       "dict"
      ]
     },
     "execution_count": 19,
     "metadata": {},
     "output_type": "execute_result"
    }
   ],
   "source": [
    "type(js_record)"
   ]
  },
  {
   "cell_type": "code",
   "execution_count": 20,
   "id": "99b1fe54",
   "metadata": {},
   "outputs": [
    {
     "data": {
      "text/plain": [
       "30"
      ]
     },
     "execution_count": 20,
     "metadata": {},
     "output_type": "execute_result"
    }
   ],
   "source": [
    "# Total Len of the Record = 30\n",
    "len(js_record)"
   ]
  },
  {
   "cell_type": "markdown",
   "id": "b699e9a6",
   "metadata": {},
   "source": [
    "## Add Items"
   ]
  },
  {
   "cell_type": "code",
   "execution_count": 33,
   "id": "e06b4ebb",
   "metadata": {},
   "outputs": [
    {
     "name": "stdout",
     "output_type": "stream",
     "text": [
      "Enter the Product ID: 123400001\n",
      "Enter the Product Name: Xiaomi\n",
      "Enter the Cost of Product: 25000\n",
      "Enter the Quantity Available: 5\n",
      "Enter the Product Category: Mobile\n",
      "Enter the Discount: 2000\n",
      "Enter GST of the Product: 20\n",
      "********************************\n",
      "Product Successfully Updated!!!\n"
     ]
    }
   ],
   "source": [
    "prod_id = str(input(\"Enter the Product ID: \"))\n",
    "\n",
    "prod_name = str(input(\"Enter the Product Name: \"))\n",
    "cost = int(input(\"Enter the Cost of Product: \"))\n",
    "quantity = int(input(\"Enter the Quantity Available: \"))\n",
    "category = str(input(\"Enter the Product Category: \"))\n",
    "dis = int(input(\"Enter the Discount: \"))\n",
    "gst = str(input(\"Enter GST of the Product: \"))\n",
    "gst = gst+\"%\";\n",
    "\n",
    "\n",
    "# To Load the Data into records\n",
    "\n",
    "\n",
    "# Update Product if it is Existing\n",
    "for i in range(1,len(js_record)+1,1):\n",
    "    if(i < 10):\n",
    "        data = 123400000+i;\n",
    "    else:\n",
    "        data = 1234000000+i;\n",
    "    \n",
    "    if(prod_id == str(data)):\n",
    "        js_record[str(data)][\"Product-Name\"] = prod_name\n",
    "        js_record[str(data)][\"Prod_cost\"] = cost\n",
    "        js_record[str(data)][\"Quantity-available\"] = quantity\n",
    "        js_record[str(data)][\"Category\"] = category\n",
    "        js_record[str(data)][\"Discount\"] = dis\n",
    "        js_record[str(data)][\"GST\"] = gst\n",
    "        flag = True\n",
    "        print(\"********************************\")\n",
    "        print(\"Product Successfully Updated!!!\")\n",
    "        break\n",
    "        \n",
    "# Load Data if it is not present\n",
    "if(not(flag)):\n",
    "    js_record[prod_id] = {\"Product-Name\": prod_name, \"Prod-Cost\": cost, \"Quantity-available\": quantity, \"Category\": category, \"Discount\": dis, \"GST\": gst}\n",
    "    print(\"***********************************\")\n",
    "    print(\"Product Added Successfully !!!!!!\") "
   ]
  },
  {
   "cell_type": "code",
   "execution_count": 34,
   "id": "7e348db1",
   "metadata": {},
   "outputs": [
    {
     "name": "stdout",
     "output_type": "stream",
     "text": [
      "{'123400001': {'Product-Name': 'Xiaomi', 'Prod-Cost': 20000, 'Quantity-available': 5, 'Category': 'Mobile', 'Discount': 2000, 'GST': '20%', 'Prod_cost': 25000}, '123400002': {'Product-Name': 'Laptop', 'Prod-Cost': 40000, 'Quantity-available': 4, 'Category': 'Electronics', 'Discount': 5000, 'GST': '15%'}, '123400003': {'Product-Name': 'Sugar', 'Prod-Cost': 50, 'Quantity-available': 20, 'Category': 'Grocery', 'Discount': 5, 'GST': '1%'}, '123400004': {'Product-Name': 'Geans Pants', 'Prod-Cost': 2000, 'Quantity-available': 14, 'Category': 'Fashion', 'Discount': 200, 'GST': '4%'}, '123400005': {'Product-Name': 'Earphone', 'Prod-Cost': 2000, 'Quantity-available': 20, 'Category': 'Electronics', 'Discount': 200, 'GST': '5%'}, '123400006': {'Product-Name': 'Tablets', 'Prod-Cost': 50000, 'Quantity-available': 7, 'Category': 'Electronics', 'Discount': 2000, 'GST': '25%'}, '123400007': {'Product-Name': 'Spices', 'Prod-Cost': 100, 'Quantity-available': 30, 'Category': 'Grocery', 'Discount': 15, 'GST': '2%'}, '123400008': {'Product-Name': 'Kids Wear', 'Prod-Cost': 5000, 'Quantity-available': 24, 'Category': 'Fashion', 'Discount': 250, 'GST': '4%'}, '123400009': {'Product-Name': 'SmartWatches', 'Prod-Cost': 10000, 'Quantity-available': 5, 'Category': 'Electronics', 'Discount': 1000, 'GST': '10%'}, '1234000010': {'Product-Name': 'Soaps', 'Prod-Cost': 40, 'Quantity-available': 40, 'Category': 'Grocery', 'Discount': 5, 'GST': '1%'}, '1234000011': {'Product-Name': 'IPhone', 'Prod-Cost': 70000, 'Quantity-available': 2, 'Category': 'Mobiles', 'Discount': 5000, 'GST': '20%'}, '1234000012': {'Product-Name': 'Shoes', 'Prod-Cost': 1500, 'Quantity-available': 14, 'Category': 'Fashion', 'Discount': 200, 'GST': '4%'}, '1234000013': {'Product-Name': 'Vivo', 'Prod-Cost': 20000, 'Quantity-available': 10, 'Category': 'Mobile', 'Discount': 2000, 'GST': '10%'}, '1234000014': {'Product-Name': 'Speakers', 'Prod-Cost': 40000, 'Quantity-available': 4, 'Category': 'Electronics', 'Discount': 5000, 'GST': '15%'}, '1234000015': {'Product-Name': 'Gee', 'Prod-Cost': 50, 'Quantity-available': 20, 'Category': 'Grocery', 'Discount': 5, 'GST': '1%'}, '1234000016': {'Product-Name': 'Jacket', 'Prod-Cost': 2000, 'Quantity-available': 14, 'Category': 'Fashion', 'Discount': 200, 'GST': '4%'}, '1234000017': {'Product-Name': 'Routers', 'Prod-Cost': 2000, 'Quantity-available': 20, 'Category': 'Electronics', 'Discount': 200, 'GST': '5%'}, '1234000018': {'Product-Name': 'Printers', 'Prod-Cost': 50000, 'Quantity-available': 7, 'Category': 'Electronics', 'Discount': 2000, 'GST': '25%'}, '1234000019': {'Product-Name': 'Vegetables', 'Prod-Cost': 100, 'Quantity-available': 30, 'Category': 'Grocery', 'Discount': 15, 'GST': '2%'}, '1234000020': {'Product-Name': 'Jewellery', 'Prod-Cost': 5000, 'Quantity-available': 24, 'Category': 'Fashion', 'Discount': 250, 'GST': '4%'}, '1234000021': {'Product-Name': 'HomeTheaters', 'Prod-Cost': 10000, 'Quantity-available': 5, 'Category': 'Electronics', 'Discount': 1000, 'GST': '10%'}, '1234000022': {'Product-Name': 'Oil', 'Prod-Cost': 40, 'Quantity-available': 40, 'Category': 'Grocery', 'Discount': 5, 'GST': '1%'}, '1234000023': {'Product-Name': 'Oppo', 'Prod-Cost': 70000, 'Quantity-available': 2, 'Category': 'Mobiles', 'Discount': 5000, 'GST': '20%'}, '1234000024': {'Product-Name': 'Watches', 'Prod-Cost': 1500, 'Quantity-available': 14, 'Category': 'Fashion', 'Discount': 200, 'GST': '4%'}, '1234000025': {'Product-Name': 'Egg', 'Prod-Cost': 100, 'Quantity-available': 30, 'Category': 'Grocery', 'Discount': 15, 'GST': '2%'}, '1234000026': {'Product-Name': 'Saree', 'Prod-Cost': 5000, 'Quantity-available': 24, 'Category': 'Fashion', 'Discount': 250, 'GST': '4%'}, '1234000027': {'Product-Name': 'Powerbanks', 'Prod-Cost': 10000, 'Quantity-available': 5, 'Category': 'Electronics', 'Discount': 1000, 'GST': '10%'}, '1234000028': {'Product-Name': 'chocolate', 'Prod-Cost': 40, 'Quantity-available': 40, 'Category': 'Grocery', 'Discount': 5, 'GST': '1%'}, '1234000029': {'Product-Name': 'samsung', 'Prod-Cost': 70000, 'Quantity-available': 2, 'Category': 'Mobiles', 'Discount': 5000, 'GST': '20%'}, '1234000030': {'Product-Name': 't-shirts', 'Prod-Cost': 1500, 'Quantity-available': 14, 'Category': 'Fashion', 'Discount': 200, 'GST': '4%'}, '1234000031': {'Product-Name': 'shampoo', 'Prod-Cost': 40, 'Quantity-available': 30, 'Category': 'Grocery', 'Discount': 3, 'GST': '1%'}, '1234000032': {'Product-Name': 'Micromax', 'Prod-Cost': 30000, 'Quantity-available': 5, 'Category': 'Mobile', 'Discount': 3000, 'GST': '10%'}}\n"
     ]
    }
   ],
   "source": [
    "print(js_record)"
   ]
  },
  {
   "cell_type": "code",
   "execution_count": 35,
   "id": "05108372",
   "metadata": {},
   "outputs": [
    {
     "data": {
      "text/plain": [
       "32"
      ]
     },
     "execution_count": 35,
     "metadata": {},
     "output_type": "execute_result"
    }
   ],
   "source": [
    "# Record Added \n",
    "len(js_record)"
   ]
  },
  {
   "cell_type": "code",
   "execution_count": 36,
   "id": "65c61c47",
   "metadata": {},
   "outputs": [],
   "source": [
    "# To rewrite the Data into same record.json file\n",
    "\n",
    "js = json.dumps(js_record)\n",
    "\n",
    "fd = open(\"Record_data.json\", \"w\")\n",
    "fd.write(js)\n",
    "fd.close()"
   ]
  },
  {
   "cell_type": "code",
   "execution_count": null,
   "id": "723ab6a2",
   "metadata": {},
   "outputs": [],
   "source": []
  }
 ],
 "metadata": {
  "kernelspec": {
   "display_name": "Python 3",
   "language": "python",
   "name": "python3"
  },
  "language_info": {
   "codemirror_mode": {
    "name": "ipython",
    "version": 3
   },
   "file_extension": ".py",
   "mimetype": "text/x-python",
   "name": "python",
   "nbconvert_exporter": "python",
   "pygments_lexer": "ipython3",
   "version": "3.8.8"
  }
 },
 "nbformat": 4,
 "nbformat_minor": 5
}
